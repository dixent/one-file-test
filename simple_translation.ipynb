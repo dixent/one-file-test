
{
  "cells": [
    {
      "cell_type": "markdown",
      "metadata": {},
      "source": [
        "Это файл 1\n"
      ]
    },
    {
      "cell_type": "markdown",
      "metadata": {},
      "outputs": [],
      "source": [
        "Это файл 1\n",
        "Это файл 2\n"
      ]
    }
  ]
}
