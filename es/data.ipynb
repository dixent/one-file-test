{
  "cells": [
    {
      "cell_type": "markdown",
      "metadata": {
        "colab_type": "text",
        "id": "gl_FX3tKZKthw"
      },
      "source": [
        "### Consumir generadores de Python\n",
        "\n",
        "Otra fuente de datos común que se puede ingerir fácilmente como `tf.data.Dataset` es el generador de Python.\n",
        "\n",
        "Precaución: si bien este es un enfoque conveniente, tiene una portabilidad y escalabilidad limitadas. Debe ejecutarse en el mismo proceso de Python que creó el generador y aún está sujeto a Python [GIL](https://en.wikipedia.org/wiki/Global_interpreter_lock) ."
      ]
    },
    {
      "cell_type": "code",
      "execution_count": 0,
      "metadata": {
        "colab": {
        },
        "colab_type": "code",
        "id": "gl_oIbInIwhRp"
      },
      "outputs": [

      ],
      "source": [
        "def count(stop):\n",
        "  i = 0\n",
        "  while i<stop:\n",
        "    yield i\n",
        "    i += 1"
      ]
    },
    {
      "cell_type": "code",
      "execution_count": 0,
      "metadata": {
        "colab": {
        },
        "colab_type": "code",
        "id": "gl_iQz2MN6F8A"
      },
      "outputs": [

      ],
      "source": [
        "for n in count(5):\n",
        "  print(n)"
      ]
    },
    {
      "cell_type": "markdown",
      "metadata": {
        "colab_type": "text",
        "id": "gl_1fLFjI9neP"
      },
      "source": [
        "El `Dataset.from_generator` convierte el generador de Python en un `tf.data.Dataset` completamente funcional.\n",
        "\n",
        "El constructor toma un invocable como entrada, no un iterador. Esto le permite reiniciar el generador cuando llega al final. Toma un `args` opcional, que se pasa como argumentos del invocable.\n",
        "\n",
        "El `output_types` es necesario porque `tf.data` crea un `tf.Graph` internamente y los bordes del gráfico requieren un `tf.dtype` ."
      ]
    },
    {
      "cell_type": "code",
      "execution_count": 0,
      "metadata": {
        "colab": {
        },
        "colab_type": "code",
        "id": "gl_EvsksNnO8S"
      },
      "outputs": [

      ],
      "source": [
        "ds_counter = tf.data.Dataset.from_generator(count, args=[25], output_types=tf.int32, output_shapes = (), )"
      ]
    }
  ]
}
