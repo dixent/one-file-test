{
  "cells": [
    {
      "cell_type": "markdown",
      "metadata": {
        "colab_type": "text",
        "id": "gl_x7TTdBcISt"
      },
      "source": [
        "### Náročné generátory Pythonu\n",
        "\n",
        "Dalším běžným zdrojem dat, který lze snadno `tf.data.Dataset` je generátor pythonu.\n",
        "\n",
        "Upozornění: I když je to pohodlný přístup, má omezenou přenositelnost a škálovatelnost. Musí běžet ve stejném procesu pythonu, který vytvořil generátor, a stále podléhá Python [GIL](https://en.wikipedia.org/wiki/Global_interpreter_lock) ."
      ]
    },
    {
      "cell_type": "code",
      "execution_count": 0,
      "metadata": {
        "colab": {
        },
        "colab_type": "code",
        "id": "gl_AcHqIL3eCn"
      },
      "outputs": [

      ],
      "source": [
        "def count(stop):\n",
        "  i = 0\n",
        "  while i<stop:\n",
        "    yield i\n",
        "    i += 1"
      ]
    },
    {
      "cell_type": "code",
      "execution_count": 0,
      "metadata": {
        "colab": {
        },
        "colab_type": "code",
        "id": "gl_j0jKn7GXYJ"
      },
      "outputs": [

      ],
      "source": [
        "for n in count(5):\n",
        "  print(n)"
      ]
    },
    {
      "cell_type": "markdown",
      "metadata": {
        "colab_type": "text",
        "id": "gl_A2iuUJf7lg"
      },
      "source": [
        "Konstruktor `Dataset.from_generator` převede generátor pythonu na plně funkční `tf.data.Dataset` .\n",
        "\n",
        "Konstruktor vezme volatelnou jako vstup, ne iterátor. To mu umožňuje restartovat generátor, když dosáhne konce. Trvá volitelný `args` , který je předán jako argumenty volatelného.\n",
        "\n",
        "Argument `output_types` je povinný, protože `tf.data` vytváří `tf.Graph` a okraje grafu vyžadují `tf.dtype` ."
      ]
    },
    {
      "cell_type": "code",
      "execution_count": 0,
      "metadata": {
        "colab": {
        },
        "colab_type": "code",
        "id": "gl_HIcDqHpu8i"
      },
      "outputs": [

      ],
      "source": [
        "ds_counter = tf.data.Dataset.from_generator(count, args=[25], output_types=tf.int32, output_shapes = (), )"
      ]
    }
  ]
}
