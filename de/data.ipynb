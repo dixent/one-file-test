{
  "cells": [
    {
      "cell_type": "markdown",
      "metadata": {
        "colab_type": "text"
      },
      "source": [
        "### Python-Generatoren verbrauchen\n",
        "\n",
        "Eine weitere gängige Datenquelle, die leicht als `tf.data.Dataset` aufgenommen werden kann, ist der Python-Generator.\n",
        "\n",
        "Achtung: Dies ist zwar ein praktischer Ansatz, hat jedoch eine eingeschränkte Portabilität und Skalierbarkeit. Es muss in demselben Python-Prozess ausgeführt werden, der den Generator erstellt hat, und unterliegt weiterhin der Python- [GIL](https://en.wikipedia.org/wiki/Global_interpreter_lock) ."
      ]
    },
    {
      "cell_type": "code",
      "execution_count": 0,
      "metadata": {
        "colab": {
        },
        "colab_type": "code"
      },
      "outputs": [

      ],
      "source": [
        "def count(stop):\n",
        "  i = 0\n",
        "  while i<stop:\n",
        "    yield i\n",
        "    i += 1"
      ]
    },
    {
      "cell_type": "code",
      "execution_count": 0,
      "metadata": {
        "colab": {
        },
        "colab_type": "code"
      },
      "outputs": [

      ],
      "source": [
        "for n in count(5):\n",
        "  print(n)"
      ]
    },
    {
      "cell_type": "markdown",
      "metadata": {
        "colab_type": "text"
      },
      "source": [
        "Der `Dataset.from_generator` konvertiert den Python-Generator in ein voll funktionsfähiges `tf.data.Dataset` .\n",
        "\n",
        "Der Konstruktor verwendet einen aufrufbaren als Eingabe, keinen Iterator. Dadurch kann der Generator am Ende neu gestartet werden. Es wird ein optionales `args` , das als Argument des Aufrufers übergeben wird.\n",
        "\n",
        "Das `output_types` ist erforderlich, da `tf.data` intern einen `tf.Graph` und für Diagrammkanten ein `tf.dtype` erforderlich ist."
      ]
    },
    {
      "cell_type": "code",
      "execution_count": 0,
      "metadata": {
        "colab": {
        },
        "colab_type": "code"
      },
      "outputs": [

      ],
      "source": [
        "ds_counter = tf.data.Dataset.from_generator(count, args=[25], output_types=tf.int32, output_shapes = (), )"
      ]
    }
  ]
}
