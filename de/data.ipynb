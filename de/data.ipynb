{
  "cells": [
    {
      "cell_type": "markdown",
      "metadata": {
        "colab_type": "text",
        "id": "gl_Yi3fxek3Q9"
      },
      "source": [
        "### Python-Generatoren verbrauchen\n",
        "\n",
        "Eine weitere gängige Datenquelle, die leicht als `tf.data.Dataset` aufgenommen werden kann, ist der Python-Generator.\n",
        "\n",
        "Achtung: Obwohl dies ein praktischer Ansatz ist, ist die Portabilität und Skalierbarkeit eingeschränkt. Es muss in demselben Python-Prozess ausgeführt werden, der den Generator erstellt hat, und unterliegt weiterhin der Python- [GIL](https://en.wikipedia.org/wiki/Global_interpreter_lock) ."
      ]
    },
    {
      "cell_type": "code",
      "execution_count": 0,
      "metadata": {
        "colab": {
        },
        "colab_type": "code",
        "id": "gl_y2ARrXBzNJ"
      },
      "outputs": [

      ],
      "source": [
        "def count(stop):\n",
        "  i = 0\n",
        "  while i<stop:\n",
        "    yield i\n",
        "    i += 1"
      ]
    },
    {
      "cell_type": "code",
      "execution_count": 0,
      "metadata": {
        "colab": {
        },
        "colab_type": "code",
        "id": "gl_4RmCJ3o5Ze"
      },
      "outputs": [

      ],
      "source": [
        "for n in count(5):\n",
        "  print(n)"
      ]
    },
    {
      "cell_type": "markdown",
      "metadata": {
        "colab_type": "text",
        "id": "gl_xQNoKd2u8Q"
      },
      "source": [
        "Der `Dataset.from_generator` konvertiert den Python-Generator in ein voll funktionsfähiges `tf.data.Dataset` .\n",
        "\n",
        "Der Konstruktor verwendet einen aufrufbaren als Eingabe, keinen Iterator. Dadurch kann der Generator am Ende neu gestartet werden. Es wird ein optionales `args` , das als Argument des Aufrufers übergeben wird.\n",
        "\n",
        "Das `output_types` ist erforderlich, da `tf.data` intern einen `tf.Graph` und für Diagrammkanten ein `tf.dtype` erforderlich ist."
      ]
    },
    {
      "cell_type": "code",
      "execution_count": 0,
      "metadata": {
        "colab": {
        },
        "colab_type": "code",
        "id": "gl_kn4Fxc7rf8"
      },
      "outputs": [

      ],
      "source": [
        "ds_counter = tf.data.Dataset.from_generator(count, args=[25], output_types=tf.int32, output_shapes = (), )"
      ]
    }
  ]
}
