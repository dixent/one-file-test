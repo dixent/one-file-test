{
  "cells": [
    {
      "cell_type": "markdown",
      "metadata": {
        "colab_type": "text",
        "id": "MY_ID2"
      },
      "source": [
        "### Использование генераторов Python\n",
        "\n",
        "Еще один распространенный источник данных, который можно легко принять как `tf.data.Dataset` - это генератор Python.\n",
        "\n",
        "Внимание: хотя это удобный подход, он имеет ограниченную переносимость и масштабируемость. Он должен выполняться в том же процессе Python, который создал генератор, и по-прежнему подчиняться Python [GIL](https://en.wikipedia.org/wiki/Global_interpreter_lock) ."
      ]
    },
    {
      "cell_type": "code",
      "execution_count": 0,
      "metadata": {
        "colab": {
        },
        "colab_type": "code",
        "id": "MY_ID1"
      },
      "outputs": [

      ],
      "source": [
        "def count(stop):\n",
        "  i = 0\n",
        "  while i<stop:\n",
        "    yield i\n",
        "    i += 1"
      ]
    },
    {
      "cell_type": "code",
      "execution_count": 0,
      "metadata": {
        "colab": {
        },
        "colab_type": "code",
        "id": "gl_Ivm7CSpAD8"
      },
      "outputs": [

      ],
      "source": [
        "for n in count(5):\n",
        "  print(n)"
      ]
    },
    {
      "cell_type": "markdown",
      "metadata": {
        "colab_type": "text",
        "id": "gl_ySdAb5mPLs"
      },
      "source": [
        "Конструктор `Dataset.from_generator` преобразует генератор Python в полнофункциональный `tf.data.Dataset` .\n",
        "\n",
        "Конструктор принимает в качестве входных данных вызываемый объект, а не итератор. Это позволяет перезапустить генератор, когда он достигнет конца. Он принимает необязательный `args` , который передается как аргументы вызываемого объекта.\n",
        "\n",
        "`output_types` является обязательным, потому что `tf.data` создает `tf.Graph` , а ребрам графа требуется `tf.dtype` ."
      ]
    },
    {
      "cell_type": "code",
      "execution_count": 0,
      "metadata": {
        "colab": {
        },
        "colab_type": "code",
        "id": "gl_gG9Qv1fBH9"
      },
      "outputs": [

      ],
      "source": [
        "ds_counter = tf.data.Dataset.from_generator(count, args=[25], output_types=tf.int32, output_shapes = (), )"
      ]
    }
  ]
}
