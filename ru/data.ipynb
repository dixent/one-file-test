{
  "cells": [
    {
      "cell_type": "markdown",
      "metadata": {
        "colab_type": "text",
        "id": "gl_8KKbret0JI"
      },
      "source": [
        "### Использование генераторов Python\n",
        "\n",
        "Еще один распространенный источник данных, который можно легко принять как `tf.data.Dataset` - это генератор Python.\n",
        "\n",
        "Внимание: хотя это удобный подход, он имеет ограниченную переносимость и масштабируемость. Он должен выполняться в том же процессе Python, который создал генератор, и по-прежнему подчиняться Python [GIL](https://en.wikipedia.org/wiki/Global_interpreter_lock) ."
      ]
    },
    {
      "cell_type": "code",
      "execution_count": 0,
      "metadata": {
        "colab": {
        },
        "colab_type": "code",
        "id": "gl_mIS9tZTo6H"
      },
      "outputs": [

      ],
      "source": [
        "def count(stop):\n",
        "  i = 0\n",
        "  while i<stop:\n",
        "    yield i\n",
        "    i += 1"
      ]
    },
    {
      "cell_type": "code",
      "execution_count": 0,
      "metadata": {
        "colab": {
        },
        "colab_type": "code",
        "id": "gl_V7aTZi8ASE"
      },
      "outputs": [

      ],
      "source": [
        "for n in count(5):\n",
        "  print(n)"
      ]
    },
    {
      "cell_type": "markdown",
      "metadata": {
        "colab_type": "text",
        "id": "gl_SZvkLPM0uw"
      },
      "source": [
        "Конструктор `Dataset.from_generator` преобразует генератор Python в полнофункциональный `tf.data.Dataset` .\n",
        "\n",
        "Конструктор принимает в качестве входных данных вызываемый объект, а не итератор. Это позволяет перезапустить генератор, когда он достигнет конца. Он принимает необязательный `args` , который передается как аргументы вызываемого объекта.\n",
        "\n",
        "`output_types` является обязательным, потому что `tf.data` создает `tf.Graph` , а ребрам графа требуется `tf.dtype` ."
      ]
    },
    {
      "cell_type": "code",
      "execution_count": 0,
      "metadata": {
        "colab": {
        },
        "colab_type": "code",
        "id": "gl_4RxjSoDmd6"
      },
      "outputs": [

      ],
      "source": [
        "ds_counter = tf.data.Dataset.from_generator(count, args=[25], output_types=tf.int32, output_shapes = (), )"
      ]
    }
  ]
}
