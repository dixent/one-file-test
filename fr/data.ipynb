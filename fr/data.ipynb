{
  "cells": [
    {
      "cell_type": "markdown",
      "metadata": {
        "colab_type": "text",
        "id": "gl_Yi3fxek3Q9"
      },
      "source": [
        "### Consommer des générateurs Python\n",
        "\n",
        "Une autre source de données courante qui peut facilement être ingérée en tant que `tf.data.Dataset` est le générateur python.\n",
        "\n",
        "Attention: bien qu'il s'agisse d'une approche pratique, sa portabilité et son évolutivité sont limitées. Il doit s'exécuter dans le même processus python qui a créé le générateur et est toujours soumis au Python [GIL](https://en.wikipedia.org/wiki/Global_interpreter_lock) ."
      ]
    },
    {
      "cell_type": "code",
      "execution_count": 0,
      "metadata": {
        "colab": {
        },
        "colab_type": "code",
        "id": "gl_y2ARrXBzNJ"
      },
      "outputs": [

      ],
      "source": [
        "def count(stop):\n",
        "  i = 0\n",
        "  while i<stop:\n",
        "    yield i\n",
        "    i += 1"
      ]
    },
    {
      "cell_type": "code",
      "execution_count": 0,
      "metadata": {
        "colab": {
        },
        "colab_type": "code",
        "id": "gl_4RmCJ3o5Ze"
      },
      "outputs": [

      ],
      "source": [
        "for n in count(5):\n",
        "  print(n)"
      ]
    },
    {
      "cell_type": "markdown",
      "metadata": {
        "colab_type": "text",
        "id": "gl_xQNoKd2u8Q"
      },
      "source": [
        "Le `Dataset.from_generator` convertit le générateur python en un `tf.data.Dataset` entièrement fonctionnel.\n",
        "\n",
        "Le constructeur prend un appelable comme entrée, pas un itérateur. Cela lui permet de redémarrer le générateur lorsqu'il atteint la fin. Il prend un `args` , qui est passé comme arguments de l'appelable.\n",
        "\n",
        "L' `output_types` est requis car `tf.data` construit un `tf.Graph` interne et les bords du graphe nécessitent un `tf.dtype` ."
      ]
    },
    {
      "cell_type": "code",
      "execution_count": 0,
      "metadata": {
        "colab": {
        },
        "colab_type": "code",
        "id": "gl_kn4Fxc7rf8"
      },
      "outputs": [

      ],
      "source": [
        "ds_counter = tf.data.Dataset.from_generator(count, args=[25], output_types=tf.int32, output_shapes = (), )"
      ]
    }
  ]
}
