{
  "cells": [
    {
      "cell_type": "markdown",
      "metadata": {
        "colab_type": "text",
        "id": "MY_ID2"
      },
      "source": [
        "### Consumindo geradores Python\n",
        "\n",
        "Outra fonte de dados comum que pode ser facilmente ingerida como um `tf.data.Dataset` é o gerador de python.\n",
        "\n",
        "Cuidado: embora seja uma abordagem conveniente, ela tem portabilidade e escalabilidade limitadas. Ele deve ser executado no mesmo processo Python que criou o gerador e ainda está sujeito ao [GIL](https://en.wikipedia.org/wiki/Global_interpreter_lock) do Python."
      ]
    },
    {
      "cell_type": "code",
      "execution_count": 0,
      "metadata": {
        "colab": {
        },
        "colab_type": "code",
        "id": "MY_ID1"
      },
      "outputs": [

      ],
      "source": [
        "def count(stop):\n",
        "  i = 0\n",
        "  while i<stop:\n",
        "    yield i\n",
        "    i += 1"
      ]
    },
    {
      "cell_type": "code",
      "execution_count": 0,
      "metadata": {
        "colab": {
        },
        "colab_type": "code",
        "id": "MY_ID5"
      },
      "outputs": [

      ],
      "source": [
        "for n in count(5):\n",
        "  print(n)"
      ]
    },
    {
      "cell_type": "markdown",
      "metadata": {
        "colab_type": "text",
        "id": "MY_IDNEW"
      },
      "source": [
        "O `Dataset.from_generator` construtor converte `tf.data.Dataset` .\n",
        "\n",
        "O construtor é passado como os argumentos do chamável.\n",
        "\n",
        "O `output_types`"
      ]
    },
    {
      "cell_type": "markdown",
      "metadata": {
        "colab_type": "text",
        "id": "MY_ID3"
      },
      "source": [
        "O `Dataset.from_generator` converte o gerador Python em um `tf.data.Dataset` totalmente funcional.\n",
        "\n",
        "O construtor recebe um chamável como entrada, não um iterador. Isso permite que ele reinicie o gerador quando chegar ao fim. `args` argumento args opcional, que é passado como os argumentos do chamável.\n",
        "\n",
        "O `output_types` é necessário porque `tf.data` constrói um `tf.Graph` internamente, e as bordas do gráfico requerem um `tf.dtype` .NEW_CONTENT"
      ]
    },
    {
      "cell_type": "code",
      "execution_count": 0,
      "metadata": {
        "colab": {
        },
        "colab_type": "code",
        "id": "MY_ID4"
      },
      "outputs": [

      ],
      "source": [
        "ds_counter = tf.data.Dataset.from_generator(count, args=[25], output_types=tf.int32, output_shapes = (), )"
      ]
    }
  ]
}
