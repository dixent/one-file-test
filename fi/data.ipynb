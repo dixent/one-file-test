{
  "cells": [
    {
      "cell_type": "markdown",
      "metadata": {
        "colab_type": "text",
        "id": "MY_ID2"
      },
      "source": [
        "### Kuluttavat Python-generaattorit\n",
        "\n",
        "Toinen yleinen tietolähde, joka voidaan helposti ottaa käyttöön `tf.data.Dataset` on python-generaattori.\n",
        "\n",
        "Varoitus: Vaikka tämä on mukava lähestymistapa, sillä on rajoitettu siirrettävyys ja skaalautuvuus. Sen on suoritettava samassa python-prosessissa, joka loi generaattorin, ja siihen sovelletaan edelleen Python [GIL: ää](https://en.wikipedia.org/wiki/Global_interpreter_lock) ."
      ]
    },
    {
      "cell_type": "code",
      "execution_count": 0,
      "metadata": {
        "colab": {
        },
        "colab_type": "code",
        "id": "MY_ID1"
      },
      "outputs": [

      ],
      "source": [
        "def count(stop):\n",
        "  i = 0\n",
        "  while i<stop:\n",
        "    yield i\n",
        "    i += 1"
      ]
    },
    {
      "cell_type": "code",
      "execution_count": 0,
      "metadata": {
        "colab": {
        },
        "colab_type": "code",
        "id": "MY_ID5"
      },
      "outputs": [

      ],
      "source": [
        "for n in count(5):\n",
        "  print(n)"
      ]
    },
    {
      "cell_type": "markdown",
      "metadata": {
        "colab_type": "text",
        "id": "MY_ID3"
      },
      "source": [
        "`Dataset.from_generator` konstruktori muuntaa python-generaattorin täysin toimivaksi `tf.data.Dataset` .\n",
        "\n",
        "Konstruktori ottaa kutsuttavan syötteen, ei iteraattoria. Tämän avulla se voi käynnistää generaattorin uudelleen, kun se on lopussa. Se kestää valinnainen `args` argumentti, joka välitetään vaadittaessa maksettavaan väitteet.\n",
        "\n",
        "`output_types` argumentti vaaditaan, koska `tf.data` rakentaa `tf.Graph` sisäisesti ja kuvaajan reunat vaativat `tf.dtype` ."
      ]
    },
    {
      "cell_type": "code",
      "execution_count": 0,
      "metadata": {
        "colab": {
        },
        "colab_type": "code",
        "id": "MY_ID4"
      },
      "outputs": [

      ],
      "source": [
        "ds_counter = tf.data.Dataset.from_generator(count, args=[25], output_types=tf.int32, output_shapes = (), )"
      ]
    }
  ]
}
